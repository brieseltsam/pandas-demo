{
 "cells": [
  {
   "cell_type": "markdown",
   "id": "3d7056d2",
   "metadata": {},
   "source": [
    "# Data Cleaning, Munging and Wrangling\n",
    "\n",
    "### The steps involved in processing and merging data\n",
    " \n",
    "Real life data from different sources often don't play well together and require pre-processing before merging. The trade-offs in this process depend entirely on the end goal\n",
    "\n",
    "- Sometimes a smaller set of high quality data is required\n",
    "\n",
    "- Sometimes a larger set with minor integrity issues is preferred"
   ]
  },
  {
   "cell_type": "code",
   "execution_count": 1,
   "id": "bfe82c57",
   "metadata": {},
   "outputs": [],
   "source": [
    "# Dependencies\n",
    "\n",
    "import pandas as pd\n",
    "import json"
   ]
  },
  {
   "cell_type": "code",
   "execution_count": 2,
   "id": "4e9281f7",
   "metadata": {},
   "outputs": [],
   "source": [
    "# Convert json to dataframe\n",
    "\n",
    "with open(\"./Resources/steam-reviews.json\", 'r', encoding=\"utf-8\") as reviews:\n",
    "    json_raw = json.load(reviews)"
   ]
  },
  {
   "cell_type": "code",
   "execution_count": 3,
   "id": "bf9c65f8",
   "metadata": {},
   "outputs": [],
   "source": [
    "# Display json format\n",
    "\n",
    "# json_raw"
   ]
  },
  {
   "cell_type": "markdown",
   "id": "344f9d0b",
   "metadata": {},
   "source": [
    "# Handling messy data"
   ]
  },
  {
   "cell_type": "code",
   "execution_count": 4,
   "id": "e6bcd62f",
   "metadata": {},
   "outputs": [
    {
     "data": {
      "text/html": [
       "<div>\n",
       "<style scoped>\n",
       "    .dataframe tbody tr th:only-of-type {\n",
       "        vertical-align: middle;\n",
       "    }\n",
       "\n",
       "    .dataframe tbody tr th {\n",
       "        vertical-align: top;\n",
       "    }\n",
       "\n",
       "    .dataframe thead th {\n",
       "        text-align: right;\n",
       "    }\n",
       "</style>\n",
       "<table border=\"1\" class=\"dataframe\">\n",
       "  <thead>\n",
       "    <tr style=\"text-align: right;\">\n",
       "      <th></th>\n",
       "      <th>img_url</th>\n",
       "      <th>date</th>\n",
       "      <th>developer</th>\n",
       "      <th>publisher</th>\n",
       "      <th>popu_tags</th>\n",
       "      <th>price</th>\n",
       "      <th>name</th>\n",
       "      <th>categories</th>\n",
       "      <th>full_desc.sort</th>\n",
       "      <th>full_desc.desc</th>\n",
       "      <th>...</th>\n",
       "      <th>requirements.recommended.macOS.graphics</th>\n",
       "      <th>requirements.recommended.macOS.os</th>\n",
       "      <th>requirements.recommended.linux.processor</th>\n",
       "      <th>requirements.recommended.linux.memory</th>\n",
       "      <th>requirements.recommended.linux.graphics</th>\n",
       "      <th>requirements.recommended.linux.os</th>\n",
       "      <th>requirements.minimum.macOS.processor</th>\n",
       "      <th>requirements.minimum.macOS.memory</th>\n",
       "      <th>requirements.minimum.macOS.graphics</th>\n",
       "      <th>requirements.minimum.macOS.os</th>\n",
       "    </tr>\n",
       "  </thead>\n",
       "  <tbody>\n",
       "    <tr>\n",
       "      <th>0</th>\n",
       "      <td>https://steamcdn-a.akamaihd.net/steam/apps/945...</td>\n",
       "      <td>Nov 16, 2018</td>\n",
       "      <td>Innersloth</td>\n",
       "      <td>Innersloth</td>\n",
       "      <td>[Multiplayer, Online, Space, Social, Deduction...</td>\n",
       "      <td>499</td>\n",
       "      <td>Among Us</td>\n",
       "      <td>[Online PvPLAN, PvPOnline Co-opLAN, Co-opCross...</td>\n",
       "      <td>game</td>\n",
       "      <td>About This Game Play with 4-10 player online o...</td>\n",
       "      <td>...</td>\n",
       "      <td>NaN</td>\n",
       "      <td>NaN</td>\n",
       "      <td>NaN</td>\n",
       "      <td>NaN</td>\n",
       "      <td>NaN</td>\n",
       "      <td>NaN</td>\n",
       "      <td>NaN</td>\n",
       "      <td>NaN</td>\n",
       "      <td>NaN</td>\n",
       "      <td>NaN</td>\n",
       "    </tr>\n",
       "    <tr>\n",
       "      <th>1</th>\n",
       "      <td>https://steamcdn-a.akamaihd.net/steam/apps/730...</td>\n",
       "      <td>Aug 21, 2012</td>\n",
       "      <td>Valve, Hidden Path Entertainment</td>\n",
       "      <td>Valve</td>\n",
       "      <td>[Shooter, Multiplayer, Competitive, Action, Te...</td>\n",
       "      <td>free</td>\n",
       "      <td>Counter-Strike: Global Offensive</td>\n",
       "      <td>[Steam Achievements Full, controller supportSt...</td>\n",
       "      <td>game</td>\n",
       "      <td>About This Game Counter-Strike: Global Offensi...</td>\n",
       "      <td>...</td>\n",
       "      <td>NaN</td>\n",
       "      <td>NaN</td>\n",
       "      <td>NaN</td>\n",
       "      <td>NaN</td>\n",
       "      <td>NaN</td>\n",
       "      <td>NaN</td>\n",
       "      <td>NaN</td>\n",
       "      <td>NaN</td>\n",
       "      <td>NaN</td>\n",
       "      <td>NaN</td>\n",
       "    </tr>\n",
       "    <tr>\n",
       "      <th>2</th>\n",
       "      <td>https://steamcdn-a.akamaihd.net/steam/apps/109...</td>\n",
       "      <td>Aug 3, 2020</td>\n",
       "      <td>Mediatonic</td>\n",
       "      <td>Devolver Digital</td>\n",
       "      <td>[Multiplayer, Funny, Battle, Royale, Online, F...</td>\n",
       "      <td>199</td>\n",
       "      <td>Fall Guys: Ultimate Knockout</td>\n",
       "      <td>[MMOOnline PvPOnline, Co-opSteam Achievements ...</td>\n",
       "      <td>game</td>\n",
       "      <td>About This Game Fall Guys: Ultimate Knockout f...</td>\n",
       "      <td>...</td>\n",
       "      <td>NaN</td>\n",
       "      <td>NaN</td>\n",
       "      <td>NaN</td>\n",
       "      <td>NaN</td>\n",
       "      <td>NaN</td>\n",
       "      <td>NaN</td>\n",
       "      <td>NaN</td>\n",
       "      <td>NaN</td>\n",
       "      <td>NaN</td>\n",
       "      <td>NaN</td>\n",
       "    </tr>\n",
       "  </tbody>\n",
       "</table>\n",
       "<p>3 rows × 41 columns</p>\n",
       "</div>"
      ],
      "text/plain": [
       "                                             img_url          date  \\\n",
       "0  https://steamcdn-a.akamaihd.net/steam/apps/945...  Nov 16, 2018   \n",
       "1  https://steamcdn-a.akamaihd.net/steam/apps/730...  Aug 21, 2012   \n",
       "2  https://steamcdn-a.akamaihd.net/steam/apps/109...   Aug 3, 2020   \n",
       "\n",
       "                          developer         publisher  \\\n",
       "0                        Innersloth        Innersloth   \n",
       "1  Valve, Hidden Path Entertainment             Valve   \n",
       "2                        Mediatonic  Devolver Digital   \n",
       "\n",
       "                                           popu_tags price  \\\n",
       "0  [Multiplayer, Online, Space, Social, Deduction...   499   \n",
       "1  [Shooter, Multiplayer, Competitive, Action, Te...  free   \n",
       "2  [Multiplayer, Funny, Battle, Royale, Online, F...   199   \n",
       "\n",
       "                               name  \\\n",
       "0                          Among Us   \n",
       "1  Counter-Strike: Global Offensive   \n",
       "2      Fall Guys: Ultimate Knockout   \n",
       "\n",
       "                                          categories full_desc.sort  \\\n",
       "0  [Online PvPLAN, PvPOnline Co-opLAN, Co-opCross...           game   \n",
       "1  [Steam Achievements Full, controller supportSt...           game   \n",
       "2  [MMOOnline PvPOnline, Co-opSteam Achievements ...           game   \n",
       "\n",
       "                                      full_desc.desc  ...  \\\n",
       "0  About This Game Play with 4-10 player online o...  ...   \n",
       "1  About This Game Counter-Strike: Global Offensi...  ...   \n",
       "2  About This Game Fall Guys: Ultimate Knockout f...  ...   \n",
       "\n",
       "  requirements.recommended.macOS.graphics requirements.recommended.macOS.os  \\\n",
       "0                                     NaN                               NaN   \n",
       "1                                     NaN                               NaN   \n",
       "2                                     NaN                               NaN   \n",
       "\n",
       "  requirements.recommended.linux.processor  \\\n",
       "0                                      NaN   \n",
       "1                                      NaN   \n",
       "2                                      NaN   \n",
       "\n",
       "  requirements.recommended.linux.memory  \\\n",
       "0                                   NaN   \n",
       "1                                   NaN   \n",
       "2                                   NaN   \n",
       "\n",
       "  requirements.recommended.linux.graphics requirements.recommended.linux.os  \\\n",
       "0                                     NaN                               NaN   \n",
       "1                                     NaN                               NaN   \n",
       "2                                     NaN                               NaN   \n",
       "\n",
       "  requirements.minimum.macOS.processor requirements.minimum.macOS.memory  \\\n",
       "0                                  NaN                               NaN   \n",
       "1                                  NaN                               NaN   \n",
       "2                                  NaN                               NaN   \n",
       "\n",
       "  requirements.minimum.macOS.graphics requirements.minimum.macOS.os  \n",
       "0                                 NaN                           NaN  \n",
       "1                                 NaN                           NaN  \n",
       "2                                 NaN                           NaN  \n",
       "\n",
       "[3 rows x 41 columns]"
      ]
     },
     "execution_count": 4,
     "metadata": {},
     "output_type": "execute_result"
    }
   ],
   "source": [
    "# Normalize json data and convert to dataframe\n",
    "\n",
    "review_raw_df = pd.json_normalize(json_raw)\n",
    "\n",
    "review_df = review_raw_df.copy()\n",
    "\n",
    "review_df.head(3)"
   ]
  },
  {
   "cell_type": "code",
   "execution_count": 5,
   "id": "0b0d5705",
   "metadata": {},
   "outputs": [
    {
     "data": {
      "text/plain": [
       "array(['Nov 16, 2018', 'Aug 21, 2012', 'Aug 3, 2020', ...,\n",
       "       'time is subjective', 'Eventually. Check back often.',\n",
       "       'Q3/Q4 2021'], dtype=object)"
      ]
     },
     "execution_count": 5,
     "metadata": {},
     "output_type": "execute_result"
    }
   ],
   "source": [
    "# Date is all over the place in terms of quality\n",
    "# Dates are the most common type of data that can require cleaning\n",
    "\n",
    "review_df.date.unique()"
   ]
  },
  {
   "cell_type": "code",
   "execution_count": 6,
   "id": "ffa59b62",
   "metadata": {},
   "outputs": [
    {
     "data": {
      "text/html": [
       "<div>\n",
       "<style scoped>\n",
       "    .dataframe tbody tr th:only-of-type {\n",
       "        vertical-align: middle;\n",
       "    }\n",
       "\n",
       "    .dataframe tbody tr th {\n",
       "        vertical-align: top;\n",
       "    }\n",
       "\n",
       "    .dataframe thead th {\n",
       "        text-align: right;\n",
       "    }\n",
       "</style>\n",
       "<table border=\"1\" class=\"dataframe\">\n",
       "  <thead>\n",
       "    <tr style=\"text-align: right;\">\n",
       "      <th></th>\n",
       "      <th>developer</th>\n",
       "      <th>name</th>\n",
       "    </tr>\n",
       "  </thead>\n",
       "  <tbody>\n",
       "    <tr>\n",
       "      <th>858</th>\n",
       "      <td>艺龙游戏</td>\n",
       "      <td>嗜血印 Bloody Spell</td>\n",
       "    </tr>\n",
       "    <tr>\n",
       "      <th>1520</th>\n",
       "      <td>上海烛龙信息科技有限公司</td>\n",
       "      <td>古剑奇谭三(Gujian3)</td>\n",
       "    </tr>\n",
       "    <tr>\n",
       "      <th>2067</th>\n",
       "      <td>墨鱼玩游戏</td>\n",
       "      <td>Chinese Parents</td>\n",
       "    </tr>\n",
       "    <tr>\n",
       "      <th>2193</th>\n",
       "      <td>搞快点工作室</td>\n",
       "      <td>探灵笔记/拾遗记-1V5(Notes of Soul)</td>\n",
       "    </tr>\n",
       "    <tr>\n",
       "      <th>2753</th>\n",
       "      <td>甘肃嘉元数字科技有限公司</td>\n",
       "      <td>The Wind Road 紫塞秋风</td>\n",
       "    </tr>\n",
       "  </tbody>\n",
       "</table>\n",
       "</div>"
      ],
      "text/plain": [
       "         developer                         name\n",
       "858           艺龙游戏             嗜血印 Bloody Spell\n",
       "1520  上海烛龙信息科技有限公司               古剑奇谭三(Gujian3)\n",
       "2067         墨鱼玩游戏              Chinese Parents\n",
       "2193        搞快点工作室  探灵笔记/拾遗记-1V5(Notes of Soul)\n",
       "2753  甘肃嘉元数字科技有限公司           The Wind Road 紫塞秋风"
      ]
     },
     "execution_count": 6,
     "metadata": {},
     "output_type": "execute_result"
    }
   ],
   "source": [
    "# Language differences is another common place where cleaning steps might be required\n",
    "\n",
    "# Fill NaN with 'none' before boolean masking\n",
    "review_df[\"developer\"]  = review_df[\"developer\"].fillna(\"None\")\n",
    "\n",
    "# Example of inconsistent naming with multiple languages\n",
    "review_df[[\"developer\",\"name\"]][~review_df['developer'].str.contains('[A-Za-z]')].head(5)"
   ]
  },
  {
   "cell_type": "code",
   "execution_count": 7,
   "id": "a3c3378f",
   "metadata": {},
   "outputs": [
    {
     "data": {
      "text/plain": [
       "developer    920\n",
       "name         920\n",
       "dtype: int64"
      ]
     },
     "execution_count": 7,
     "metadata": {},
     "output_type": "execute_result"
    }
   ],
   "source": [
    "# Example of inconsistent naming with multiple languages - Count of instances\n",
    "review_df[[\"developer\",\"name\"]][~review_df['developer'].str.contains('[A-Za-z]')].count()"
   ]
  },
  {
   "cell_type": "code",
   "execution_count": 8,
   "id": "348a8f5c",
   "metadata": {},
   "outputs": [
    {
     "data": {
      "text/plain": [
       "['\"Coming Soon\"',\n",
       " '\"Coming Soon\"',\n",
       " '\"On 100.000 wishlists!\"',\n",
       " '\"On 100.000 wishlists!\"',\n",
       " \"'coming soon'\",\n",
       " '(Hopefully) Q3 2020',\n",
       " '06 2019',\n",
       " '09/20/2020',\n",
       " '1 Apr, 1994',\n",
       " '1 Apr, 2011']"
      ]
     },
     "execution_count": 8,
     "metadata": {},
     "output_type": "execute_result"
    }
   ],
   "source": [
    "# Example of extracting date series as a list\n",
    "test = review_df.date.sort_values().tolist()\n",
    "\n",
    "# First 10 \"dates\"\n",
    "test[0:10]"
   ]
  }
 ],
 "metadata": {
  "kernelspec": {
   "display_name": "pandas_env",
   "language": "python",
   "name": "pandas_env"
  },
  "language_info": {
   "codemirror_mode": {
    "name": "ipython",
    "version": 3
   },
   "file_extension": ".py",
   "mimetype": "text/x-python",
   "name": "python",
   "nbconvert_exporter": "python",
   "pygments_lexer": "ipython3",
   "version": "3.8.5"
  }
 },
 "nbformat": 4,
 "nbformat_minor": 5
}
