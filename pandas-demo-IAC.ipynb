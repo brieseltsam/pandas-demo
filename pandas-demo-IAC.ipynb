{
 "cells": [
  {
   "cell_type": "markdown",
   "id": "45c5a0c8",
   "metadata": {},
   "source": [
    "# Data Exploration\n",
    "\n",
    "####  A common task with Pandas is data exploration - play with your data!\n",
    "\n",
    "- Questions to ask:\n",
    "    - How complete is my data?\n",
    "    - What is the range of values?\n",
    "    - What are the basic trends? \n",
    "<br>\n",
    "<br>\n",
    "- Overall goals are to determine:\n",
    "    - If quality could be improved with cleaning/munging/wrangling\n",
    "    - If transformation and/or aggregation is appropriate\n",
    "    - How to address edge cases and rare scenarios that exist in the data\n",
    "<br>\n",
    "<br>\n",
    "- Main Goal:\n",
    "    - Determine if the data is \"trustworthy\"\n",
    "        - Unexpected values or trends should be verified for accuracy\n",
    "        - GIGO applies to data as much as code"
   ]
  },
  {
   "cell_type": "code",
   "execution_count": 1,
   "id": "1a42d102",
   "metadata": {},
   "outputs": [],
   "source": [
    "# Dependencies\n",
    "\n",
    "import pandas as pd"
   ]
  },
  {
   "cell_type": "markdown",
   "id": "09f40b06",
   "metadata": {},
   "source": [
    "## Create a pandas dataframe from a dictionary"
   ]
  },
  {
   "cell_type": "code",
   "execution_count": 2,
   "id": "96bba9a2",
   "metadata": {},
   "outputs": [],
   "source": [
    "# Dictionary data of pet types and number owned\n",
    "example_data = {'pet_type': [\"dog\",\"cat\",\"bird\"], 'number_owned': [2,3,35]}\n",
    "\n",
    "# Convert to dataframe\n",
    "example_df = pd.DataFrame.from_dict(example_data)"
   ]
  },
  {
   "cell_type": "code",
   "execution_count": 3,
   "id": "3fa506c0",
   "metadata": {},
   "outputs": [
    {
     "name": "stdout",
     "output_type": "stream",
     "text": [
      "  pet_type  number_owned\n",
      "0      dog             2\n",
      "1      cat             3\n",
      "2     bird            35\n"
     ]
    }
   ],
   "source": [
    "# Display results with print:\n",
    "\n",
    "print(f\"{example_df.head()}\")"
   ]
  },
  {
   "cell_type": "code",
   "execution_count": 4,
   "id": "904bca81",
   "metadata": {},
   "outputs": [
    {
     "data": {
      "text/html": [
       "<div>\n",
       "<style scoped>\n",
       "    .dataframe tbody tr th:only-of-type {\n",
       "        vertical-align: middle;\n",
       "    }\n",
       "\n",
       "    .dataframe tbody tr th {\n",
       "        vertical-align: top;\n",
       "    }\n",
       "\n",
       "    .dataframe thead th {\n",
       "        text-align: right;\n",
       "    }\n",
       "</style>\n",
       "<table border=\"1\" class=\"dataframe\">\n",
       "  <thead>\n",
       "    <tr style=\"text-align: right;\">\n",
       "      <th></th>\n",
       "      <th>pet_type</th>\n",
       "      <th>number_owned</th>\n",
       "    </tr>\n",
       "  </thead>\n",
       "  <tbody>\n",
       "    <tr>\n",
       "      <th>0</th>\n",
       "      <td>dog</td>\n",
       "      <td>2</td>\n",
       "    </tr>\n",
       "    <tr>\n",
       "      <th>1</th>\n",
       "      <td>cat</td>\n",
       "      <td>3</td>\n",
       "    </tr>\n",
       "    <tr>\n",
       "      <th>2</th>\n",
       "      <td>bird</td>\n",
       "      <td>35</td>\n",
       "    </tr>\n",
       "  </tbody>\n",
       "</table>\n",
       "</div>"
      ],
      "text/plain": [
       "  pet_type  number_owned\n",
       "0      dog             2\n",
       "1      cat             3\n",
       "2     bird            35"
      ]
     },
     "execution_count": 4,
     "metadata": {},
     "output_type": "execute_result"
    }
   ],
   "source": [
    "# Or run the df.head() or df.tail() directly in the notebook cell for formatted results:\n",
    "\n",
    "example_df.head()"
   ]
  },
  {
   "cell_type": "markdown",
   "id": "f9aedc70",
   "metadata": {},
   "source": [
    "## Converting data formats into a pandas dataframe\n",
    "\n",
    "### Example is data of steam games for number of players"
   ]
  },
  {
   "cell_type": "code",
   "execution_count": 5,
   "id": "9d427101",
   "metadata": {},
   "outputs": [
    {
     "data": {
      "text/html": [
       "<div>\n",
       "<style scoped>\n",
       "    .dataframe tbody tr th:only-of-type {\n",
       "        vertical-align: middle;\n",
       "    }\n",
       "\n",
       "    .dataframe tbody tr th {\n",
       "        vertical-align: top;\n",
       "    }\n",
       "\n",
       "    .dataframe thead th {\n",
       "        text-align: right;\n",
       "    }\n",
       "</style>\n",
       "<table border=\"1\" class=\"dataframe\">\n",
       "  <thead>\n",
       "    <tr style=\"text-align: right;\">\n",
       "      <th></th>\n",
       "      <th>gamename</th>\n",
       "      <th>year</th>\n",
       "      <th>month</th>\n",
       "      <th>avg</th>\n",
       "      <th>gain</th>\n",
       "      <th>peak</th>\n",
       "      <th>avg_peak_perc</th>\n",
       "    </tr>\n",
       "  </thead>\n",
       "  <tbody>\n",
       "    <tr>\n",
       "      <th>0</th>\n",
       "      <td>Counter-Strike: Global Offensive</td>\n",
       "      <td>2021</td>\n",
       "      <td>February</td>\n",
       "      <td>741013.24</td>\n",
       "      <td>-2196.42</td>\n",
       "      <td>1123485</td>\n",
       "      <td>65.9567%</td>\n",
       "    </tr>\n",
       "    <tr>\n",
       "      <th>1</th>\n",
       "      <td>Counter-Strike: Global Offensive</td>\n",
       "      <td>2021</td>\n",
       "      <td>January</td>\n",
       "      <td>743209.66</td>\n",
       "      <td>25405.91</td>\n",
       "      <td>1124553</td>\n",
       "      <td>66.0893%</td>\n",
       "    </tr>\n",
       "    <tr>\n",
       "      <th>2</th>\n",
       "      <td>Counter-Strike: Global Offensive</td>\n",
       "      <td>2020</td>\n",
       "      <td>December</td>\n",
       "      <td>717803.75</td>\n",
       "      <td>49049.17</td>\n",
       "      <td>1164396</td>\n",
       "      <td>61.646%</td>\n",
       "    </tr>\n",
       "  </tbody>\n",
       "</table>\n",
       "</div>"
      ],
      "text/plain": [
       "                           gamename  year      month        avg      gain  \\\n",
       "0  Counter-Strike: Global Offensive  2021  February   741013.24  -2196.42   \n",
       "1  Counter-Strike: Global Offensive  2021   January   743209.66  25405.91   \n",
       "2  Counter-Strike: Global Offensive  2020  December   717803.75  49049.17   \n",
       "\n",
       "      peak avg_peak_perc  \n",
       "0  1123485      65.9567%  \n",
       "1  1124553      66.0893%  \n",
       "2  1164396       61.646%  "
      ]
     },
     "execution_count": 5,
     "metadata": {},
     "output_type": "execute_result"
    }
   ],
   "source": [
    "# Location of data\n",
    "csv_games = (\"./Resources/SteamCharts.csv\")\n",
    "\n",
    "# Convert into pandas dataframe (encoding is optional, default is utf-8)\n",
    "df_raw = pd.read_csv(csv_games, encoding=\"unicode_escape\")\n",
    "\n",
    "df_raw.head(3)"
   ]
  },
  {
   "cell_type": "markdown",
   "id": "79244bbf",
   "metadata": {},
   "source": [
    "Popular convention is to name initial dataframe \"raw\" and create copies during modifications to preserve original"
   ]
  },
  {
   "cell_type": "code",
   "execution_count": 6,
   "id": "46119c10",
   "metadata": {},
   "outputs": [
    {
     "data": {
      "text/html": [
       "<div>\n",
       "<style scoped>\n",
       "    .dataframe tbody tr th:only-of-type {\n",
       "        vertical-align: middle;\n",
       "    }\n",
       "\n",
       "    .dataframe tbody tr th {\n",
       "        vertical-align: top;\n",
       "    }\n",
       "\n",
       "    .dataframe thead th {\n",
       "        text-align: right;\n",
       "    }\n",
       "</style>\n",
       "<table border=\"1\" class=\"dataframe\">\n",
       "  <thead>\n",
       "    <tr style=\"text-align: right;\">\n",
       "      <th></th>\n",
       "      <th>game</th>\n",
       "      <th>year</th>\n",
       "      <th>month</th>\n",
       "      <th>avg_players</th>\n",
       "      <th>monthly_change</th>\n",
       "      <th>max_players</th>\n",
       "      <th>avg_max_percent</th>\n",
       "    </tr>\n",
       "  </thead>\n",
       "  <tbody>\n",
       "    <tr>\n",
       "      <th>0</th>\n",
       "      <td>Counter-Strike: Global Offensive</td>\n",
       "      <td>2021</td>\n",
       "      <td>February</td>\n",
       "      <td>741013.24</td>\n",
       "      <td>-2196.42</td>\n",
       "      <td>1123485</td>\n",
       "      <td>65.9567%</td>\n",
       "    </tr>\n",
       "    <tr>\n",
       "      <th>1</th>\n",
       "      <td>Counter-Strike: Global Offensive</td>\n",
       "      <td>2021</td>\n",
       "      <td>January</td>\n",
       "      <td>743209.66</td>\n",
       "      <td>25405.91</td>\n",
       "      <td>1124553</td>\n",
       "      <td>66.0893%</td>\n",
       "    </tr>\n",
       "    <tr>\n",
       "      <th>2</th>\n",
       "      <td>Counter-Strike: Global Offensive</td>\n",
       "      <td>2020</td>\n",
       "      <td>December</td>\n",
       "      <td>717803.75</td>\n",
       "      <td>49049.17</td>\n",
       "      <td>1164396</td>\n",
       "      <td>61.646%</td>\n",
       "    </tr>\n",
       "  </tbody>\n",
       "</table>\n",
       "</div>"
      ],
      "text/plain": [
       "                               game  year      month  avg_players  \\\n",
       "0  Counter-Strike: Global Offensive  2021  February     741013.24   \n",
       "1  Counter-Strike: Global Offensive  2021   January     743209.66   \n",
       "2  Counter-Strike: Global Offensive  2020  December     717803.75   \n",
       "\n",
       "   monthly_change  max_players avg_max_percent  \n",
       "0        -2196.42      1123485        65.9567%  \n",
       "1        25405.91      1124553        66.0893%  \n",
       "2        49049.17      1164396         61.646%  "
      ]
     },
     "execution_count": 6,
     "metadata": {},
     "output_type": "execute_result"
    }
   ],
   "source": [
    "# Renaming columns/fields as a copy\n",
    "df = df_raw.rename(columns={\"gamename\": \"game\", \n",
    "                                              \"year\": \"year\", \n",
    "                                              \"month\": \"month\", \n",
    "                                              \"avg\": \"avg_players\",\n",
    "                                              \"gain\": \"monthly_change\",\n",
    "                                              \"peak\": \"max_players\", \n",
    "                                              \"avg_peak_perc\": \"avg_max_percent\"}).copy()\n",
    "\n",
    "df.head(3)"
   ]
  },
  {
   "cell_type": "code",
   "execution_count": 7,
   "id": "9f87d6ce",
   "metadata": {},
   "outputs": [
    {
     "data": {
      "text/plain": [
       "game                object\n",
       "year                 int64\n",
       "month               object\n",
       "avg_players        float64\n",
       "monthly_change     float64\n",
       "max_players          int64\n",
       "avg_max_percent     object\n",
       "dtype: object"
      ]
     },
     "execution_count": 7,
     "metadata": {},
     "output_type": "execute_result"
    }
   ],
   "source": [
    "# Confirm datatypes\n",
    "\n",
    "df.dtypes"
   ]
  },
  {
   "cell_type": "code",
   "execution_count": 8,
   "id": "b47dcbb7",
   "metadata": {},
   "outputs": [
    {
     "name": "stdout",
     "output_type": "stream",
     "text": [
      "Rows: 83789; Columns: 7\n"
     ]
    }
   ],
   "source": [
    "# Confirm number of rows and columns\n",
    "\n",
    "print(f\"Rows: {df.shape[0]}; Columns: {df.shape[1]}\")"
   ]
  },
  {
   "cell_type": "code",
   "execution_count": 9,
   "id": "27862535",
   "metadata": {},
   "outputs": [
    {
     "data": {
      "text/plain": [
       "game                  0\n",
       "year                  0\n",
       "month                 0\n",
       "avg_players           0\n",
       "monthly_change     1260\n",
       "max_players           0\n",
       "avg_max_percent       0\n",
       "dtype: int64"
      ]
     },
     "execution_count": 9,
     "metadata": {},
     "output_type": "execute_result"
    }
   ],
   "source": [
    "# Determine which columns have missing data\n",
    "\n",
    "df.isnull().sum()"
   ]
  },
  {
   "cell_type": "markdown",
   "id": "70eab735",
   "metadata": {},
   "source": [
    "#### Exploration shows that the field ```monthly_change``` is missing 1260 values - good candidate to drop or recalculate based on ```month``` and ```avg_players values```"
   ]
  },
  {
   "cell_type": "code",
   "execution_count": 10,
   "id": "fb4e8696",
   "metadata": {},
   "outputs": [
    {
     "data": {
      "text/html": [
       "<div>\n",
       "<style scoped>\n",
       "    .dataframe tbody tr th:only-of-type {\n",
       "        vertical-align: middle;\n",
       "    }\n",
       "\n",
       "    .dataframe tbody tr th {\n",
       "        vertical-align: top;\n",
       "    }\n",
       "\n",
       "    .dataframe thead th {\n",
       "        text-align: right;\n",
       "    }\n",
       "</style>\n",
       "<table border=\"1\" class=\"dataframe\">\n",
       "  <thead>\n",
       "    <tr style=\"text-align: right;\">\n",
       "      <th></th>\n",
       "      <th>game</th>\n",
       "      <th>year</th>\n",
       "      <th>month</th>\n",
       "      <th>avg_players</th>\n",
       "      <th>monthly_change</th>\n",
       "      <th>max_players</th>\n",
       "      <th>avg_max_percent</th>\n",
       "    </tr>\n",
       "  </thead>\n",
       "  <tbody>\n",
       "    <tr>\n",
       "      <th>min</th>\n",
       "      <td>100% Orange Juice</td>\n",
       "      <td>2012</td>\n",
       "      <td>April</td>\n",
       "      <td>0.00</td>\n",
       "      <td>-250248.99</td>\n",
       "      <td>0</td>\n",
       "      <td>0%</td>\n",
       "    </tr>\n",
       "    <tr>\n",
       "      <th>max</th>\n",
       "      <td>theHunter: Call of the Wild</td>\n",
       "      <td>2021</td>\n",
       "      <td>September</td>\n",
       "      <td>1584886.77</td>\n",
       "      <td>426446.12</td>\n",
       "      <td>3236027</td>\n",
       "      <td>NaN%</td>\n",
       "    </tr>\n",
       "  </tbody>\n",
       "</table>\n",
       "</div>"
      ],
      "text/plain": [
       "                             game  year       month  avg_players  \\\n",
       "min             100% Orange Juice  2012      April          0.00   \n",
       "max  theHunter: Call of the Wild  2021  September    1584886.77   \n",
       "\n",
       "     monthly_change  max_players avg_max_percent  \n",
       "min      -250248.99            0              0%  \n",
       "max       426446.12      3236027            NaN%  "
      ]
     },
     "execution_count": 10,
     "metadata": {},
     "output_type": "execute_result"
    }
   ],
   "source": [
    "# Max and min (agg will apply to string values based on alphanumeric ordering, if applicable)\n",
    "\n",
    "df.agg([min, max])"
   ]
  },
  {
   "cell_type": "markdown",
   "id": "200a1468",
   "metadata": {},
   "source": [
    "#### We can see that ```avg_max_percent``` has a value of NaN% - indicating a possible data error"
   ]
  },
  {
   "cell_type": "code",
   "execution_count": 11,
   "id": "36e81632",
   "metadata": {},
   "outputs": [
    {
     "data": {
      "text/html": [
       "<div>\n",
       "<style scoped>\n",
       "    .dataframe tbody tr th:only-of-type {\n",
       "        vertical-align: middle;\n",
       "    }\n",
       "\n",
       "    .dataframe tbody tr th {\n",
       "        vertical-align: top;\n",
       "    }\n",
       "\n",
       "    .dataframe thead th {\n",
       "        text-align: right;\n",
       "    }\n",
       "</style>\n",
       "<table border=\"1\" class=\"dataframe\">\n",
       "  <thead>\n",
       "    <tr style=\"text-align: right;\">\n",
       "      <th></th>\n",
       "      <th>year</th>\n",
       "      <th>avg_players</th>\n",
       "      <th>monthly_change</th>\n",
       "      <th>max_players</th>\n",
       "    </tr>\n",
       "  </thead>\n",
       "  <tbody>\n",
       "    <tr>\n",
       "      <th>count</th>\n",
       "      <td>83789.000000</td>\n",
       "      <td>8.378900e+04</td>\n",
       "      <td>82529.000000</td>\n",
       "      <td>8.378900e+04</td>\n",
       "    </tr>\n",
       "    <tr>\n",
       "      <th>mean</th>\n",
       "      <td>2017.338708</td>\n",
       "      <td>2.792017e+03</td>\n",
       "      <td>-10.245559</td>\n",
       "      <td>5.518877e+03</td>\n",
       "    </tr>\n",
       "    <tr>\n",
       "      <th>std</th>\n",
       "      <td>2.237587</td>\n",
       "      <td>2.648480e+04</td>\n",
       "      <td>3789.944005</td>\n",
       "      <td>5.015571e+04</td>\n",
       "    </tr>\n",
       "    <tr>\n",
       "      <th>min</th>\n",
       "      <td>2012.000000</td>\n",
       "      <td>0.000000e+00</td>\n",
       "      <td>-250248.990000</td>\n",
       "      <td>0.000000e+00</td>\n",
       "    </tr>\n",
       "    <tr>\n",
       "      <th>25%</th>\n",
       "      <td>2016.000000</td>\n",
       "      <td>5.325000e+01</td>\n",
       "      <td>-38.310000</td>\n",
       "      <td>1.380000e+02</td>\n",
       "    </tr>\n",
       "    <tr>\n",
       "      <th>50%</th>\n",
       "      <td>2018.000000</td>\n",
       "      <td>2.042700e+02</td>\n",
       "      <td>-1.630000</td>\n",
       "      <td>5.020000e+02</td>\n",
       "    </tr>\n",
       "    <tr>\n",
       "      <th>75%</th>\n",
       "      <td>2019.000000</td>\n",
       "      <td>7.716500e+02</td>\n",
       "      <td>22.320000</td>\n",
       "      <td>1.741000e+03</td>\n",
       "    </tr>\n",
       "    <tr>\n",
       "      <th>max</th>\n",
       "      <td>2021.000000</td>\n",
       "      <td>1.584887e+06</td>\n",
       "      <td>426446.120000</td>\n",
       "      <td>3.236027e+06</td>\n",
       "    </tr>\n",
       "  </tbody>\n",
       "</table>\n",
       "</div>"
      ],
      "text/plain": [
       "               year   avg_players  monthly_change   max_players\n",
       "count  83789.000000  8.378900e+04    82529.000000  8.378900e+04\n",
       "mean    2017.338708  2.792017e+03      -10.245559  5.518877e+03\n",
       "std        2.237587  2.648480e+04     3789.944005  5.015571e+04\n",
       "min     2012.000000  0.000000e+00  -250248.990000  0.000000e+00\n",
       "25%     2016.000000  5.325000e+01      -38.310000  1.380000e+02\n",
       "50%     2018.000000  2.042700e+02       -1.630000  5.020000e+02\n",
       "75%     2019.000000  7.716500e+02       22.320000  1.741000e+03\n",
       "max     2021.000000  1.584887e+06   426446.120000  3.236027e+06"
      ]
     },
     "execution_count": 11,
     "metadata": {},
     "output_type": "execute_result"
    }
   ],
   "source": [
    "# Descriptive Status\n",
    "\n",
    "df.describe()"
   ]
  },
  {
   "cell_type": "markdown",
   "id": "eb468c00",
   "metadata": {},
   "source": [
    "### Can investigate individual columns"
   ]
  },
  {
   "cell_type": "code",
   "execution_count": 12,
   "id": "1f9df01e",
   "metadata": {},
   "outputs": [
    {
     "data": {
      "text/plain": [
       "array(['February ', 'January ', 'December ', 'November ', 'October ',\n",
       "       'September ', 'August ', 'July ', 'June ', 'May ', 'April ',\n",
       "       'March '], dtype=object)"
      ]
     },
     "execution_count": 12,
     "metadata": {},
     "output_type": "execute_result"
    }
   ],
   "source": [
    "# Using dot notation to find all unique values for month\n",
    "\n",
    "df.month.unique()"
   ]
  },
  {
   "cell_type": "code",
   "execution_count": 13,
   "id": "b357a47b",
   "metadata": {},
   "outputs": [
    {
     "data": {
      "text/plain": [
       "array([2012, 2013, 2014, 2015, 2016, 2017, 2018, 2019, 2020, 2021])"
      ]
     },
     "execution_count": 13,
     "metadata": {},
     "output_type": "execute_result"
    }
   ],
   "source": [
    "# Using quotations (useful when a space exists in column name)\n",
    "\n",
    "df[\"year\"].sort_values().unique()"
   ]
  },
  {
   "cell_type": "markdown",
   "id": "6478c947",
   "metadata": {},
   "source": [
    "# Exploration Results\n",
    "\n",
    "### This data is requires minimal cleaning (preprocessing)\n",
    "\n",
    "Example of a cleaning method - replace missing (NaN) with zero for ```monthly_change``` column"
   ]
  },
  {
   "cell_type": "code",
   "execution_count": 14,
   "id": "93fe32e6",
   "metadata": {},
   "outputs": [
    {
     "data": {
      "text/plain": [
       "game               0\n",
       "year               0\n",
       "month              0\n",
       "avg_players        0\n",
       "monthly_change     0\n",
       "max_players        0\n",
       "avg_max_percent    0\n",
       "dtype: int64"
      ]
     },
     "execution_count": 14,
     "metadata": {},
     "output_type": "execute_result"
    }
   ],
   "source": [
    "# Convert NaN to zero\n",
    "df.monthly_change = df.monthly_change.fillna(0)\n",
    "\n",
    "df.isnull().sum()"
   ]
  }
 ],
 "metadata": {
  "kernelspec": {
   "display_name": "pandas_env",
   "language": "python",
   "name": "pandas_env"
  },
  "language_info": {
   "codemirror_mode": {
    "name": "ipython",
    "version": 3
   },
   "file_extension": ".py",
   "mimetype": "text/x-python",
   "name": "python",
   "nbconvert_exporter": "python",
   "pygments_lexer": "ipython3",
   "version": "3.8.5"
  }
 },
 "nbformat": 4,
 "nbformat_minor": 5
}
