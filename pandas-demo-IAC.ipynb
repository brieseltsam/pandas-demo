{
 "cells": [
  {
   "cell_type": "markdown",
   "id": "235a6196",
   "metadata": {},
   "source": [
    "# Data Exploration\n",
    "\n",
    "####  A common task with Pandas is data exploration - play with your data!\n",
    "\n",
    "- Questions to ask:\n",
    "    - How complete is my data?\n",
    "    - What is the range of values?\n",
    "    - What are the basic trends? \n",
    "<br>\n",
    "<br>\n",
    "- Overall goals are to determine:\n",
    "    - If quality could be improved with cleaning/munging/wrangling\n",
    "    - If transformation and/or aggregation is appropriate\n",
    "    - How to address edge cases and rare scenarios that exist in the data\n",
    "<br>\n",
    "<br>\n",
    "- Main Goal:\n",
    "    - Determine if the data is \"trustworthy\"\n",
    "        - Unexpected values or trends should be verified for accuracy\n",
    "        - GIGO applies to data as much as code - better inputs lead to better outputs"
   ]
  },
  {
   "cell_type": "code",
   "execution_count": 2,
   "id": "b85ab7a7",
   "metadata": {},
   "outputs": [],
   "source": [
    "# Dependencies\n",
    "\n",
    "import pandas as pd"
   ]
  },
  {
   "cell_type": "markdown",
   "id": "aefd2ce7",
   "metadata": {},
   "source": [
    "## Converting into a pandas dataframe"
   ]
  },
  {
   "cell_type": "code",
   "execution_count": 4,
   "id": "5b6ab9a2",
   "metadata": {},
   "outputs": [],
   "source": [
    "# Location of data\n",
    "csv_games = (\"./Resources/SteamCharts.csv\")\n",
    "\n",
    "# Convert into pandas dataframe (encoding is optional, default is utf-8)\n",
    "popular_df = pd.read_csv(csv_games, encoding='unicode_escape')"
   ]
  },
  {
   "cell_type": "markdown",
   "id": "c936f776",
   "metadata": {},
   "source": [
    "### Notebook will display the last output by default\n"
   ]
  },
  {
   "cell_type": "code",
   "execution_count": 7,
   "id": "773b0421",
   "metadata": {},
   "outputs": [
    {
     "name": "stdout",
     "output_type": "stream",
     "text": [
      "                           gamename  year      month        avg      gain  \\\n",
      "0  Counter-Strike: Global Offensive  2021  February   741013.24  -2196.42   \n",
      "1  Counter-Strike: Global Offensive  2021   January   743209.66  25405.91   \n",
      "2  Counter-Strike: Global Offensive  2020  December   717803.75  49049.17   \n",
      "\n",
      "      peak avg_peak_perc  \n",
      "0  1123485      65.9567%  \n",
      "1  1124553      66.0893%  \n",
      "2  1164396       61.646%  \n"
     ]
    }
   ],
   "source": [
    "# Display results with print:\n",
    "\n",
    "print(f\"{popular_df.head(3)}\")"
   ]
  },
  {
   "cell_type": "code",
   "execution_count": 9,
   "id": "02ec47d6",
   "metadata": {},
   "outputs": [
    {
     "data": {
      "text/html": [
       "<div>\n",
       "<style scoped>\n",
       "    .dataframe tbody tr th:only-of-type {\n",
       "        vertical-align: middle;\n",
       "    }\n",
       "\n",
       "    .dataframe tbody tr th {\n",
       "        vertical-align: top;\n",
       "    }\n",
       "\n",
       "    .dataframe thead th {\n",
       "        text-align: right;\n",
       "    }\n",
       "</style>\n",
       "<table border=\"1\" class=\"dataframe\">\n",
       "  <thead>\n",
       "    <tr style=\"text-align: right;\">\n",
       "      <th></th>\n",
       "      <th>gamename</th>\n",
       "      <th>year</th>\n",
       "      <th>month</th>\n",
       "      <th>avg</th>\n",
       "      <th>gain</th>\n",
       "      <th>peak</th>\n",
       "      <th>avg_peak_perc</th>\n",
       "    </tr>\n",
       "  </thead>\n",
       "  <tbody>\n",
       "    <tr>\n",
       "      <th>83786</th>\n",
       "      <td>Steel Division: Normandy 44</td>\n",
       "      <td>2017</td>\n",
       "      <td>May</td>\n",
       "      <td>1138.66</td>\n",
       "      <td>415.61</td>\n",
       "      <td>4606</td>\n",
       "      <td>24.7212%</td>\n",
       "    </tr>\n",
       "    <tr>\n",
       "      <th>83787</th>\n",
       "      <td>Steel Division: Normandy 44</td>\n",
       "      <td>2017</td>\n",
       "      <td>April</td>\n",
       "      <td>723.05</td>\n",
       "      <td>720.21</td>\n",
       "      <td>1911</td>\n",
       "      <td>37.8362%</td>\n",
       "    </tr>\n",
       "    <tr>\n",
       "      <th>83788</th>\n",
       "      <td>Steel Division: Normandy 44</td>\n",
       "      <td>2017</td>\n",
       "      <td>March</td>\n",
       "      <td>2.84</td>\n",
       "      <td>NaN</td>\n",
       "      <td>14</td>\n",
       "      <td>20.2857%</td>\n",
       "    </tr>\n",
       "  </tbody>\n",
       "</table>\n",
       "</div>"
      ],
      "text/plain": [
       "                          gamename  year   month      avg    gain  peak  \\\n",
       "83786  Steel Division: Normandy 44  2017    May   1138.66  415.61  4606   \n",
       "83787  Steel Division: Normandy 44  2017  April    723.05  720.21  1911   \n",
       "83788  Steel Division: Normandy 44  2017  March      2.84     NaN    14   \n",
       "\n",
       "      avg_peak_perc  \n",
       "83786      24.7212%  \n",
       "83787      37.8362%  \n",
       "83788      20.2857%  "
      ]
     },
     "execution_count": 9,
     "metadata": {},
     "output_type": "execute_result"
    }
   ],
   "source": [
    "# Or run the df.head() or df.tail() directly in the notebook cell for formatted results:\n",
    "\n",
    "popular_df.tail(3)"
   ]
  },
  {
   "cell_type": "code",
   "execution_count": null,
   "id": "ec031ce8",
   "metadata": {},
   "outputs": [],
   "source": []
  },
  {
   "cell_type": "code",
   "execution_count": null,
   "id": "005171db",
   "metadata": {},
   "outputs": [],
   "source": []
  }
 ],
 "metadata": {
  "kernelspec": {
   "display_name": "pandas_env",
   "language": "python",
   "name": "pandas_env"
  },
  "language_info": {
   "codemirror_mode": {
    "name": "ipython",
    "version": 3
   },
   "file_extension": ".py",
   "mimetype": "text/x-python",
   "name": "python",
   "nbconvert_exporter": "python",
   "pygments_lexer": "ipython3",
   "version": "3.8.5"
  }
 },
 "nbformat": 4,
 "nbformat_minor": 5
}
